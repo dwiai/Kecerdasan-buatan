{
  "nbformat": 4,
  "nbformat_minor": 0,
  "metadata": {
    "colab": {
      "name": "Untitled4.ipynb",
      "provenance": [],
      "authorship_tag": "ABX9TyOzyc2oq2f1i/T6LsofXGit",
      "include_colab_link": true
    },
    "kernelspec": {
      "name": "python3",
      "display_name": "Python 3"
    },
    "language_info": {
      "name": "python"
    }
  },
  "cells": [
    {
      "cell_type": "markdown",
      "metadata": {
        "id": "view-in-github",
        "colab_type": "text"
      },
      "source": [
        "<a href=\"https://colab.research.google.com/github/dwiai/Kecerdasan-buatan/blob/main/Untitled4.ipynb\" target=\"_parent\"><img src=\"https://colab.research.google.com/assets/colab-badge.svg\" alt=\"Open In Colab\"/></a>"
      ]
    },
    {
      "cell_type": "code",
      "execution_count": 46,
      "metadata": {
        "colab": {
          "base_uri": "https://localhost:8080/"
        },
        "id": "R29OABFbPE65",
        "outputId": "3d089bde-52b9-4ee9-dabb-5b34a43b6c08"
      },
      "outputs": [
        {
          "output_type": "stream",
          "name": "stdout",
          "text": [
            "Requirement already satisfied: pyyaml in /usr/local/lib/python3.7/dist-packages (3.13)\n",
            "Requirement already satisfied: h5py in /usr/local/lib/python3.7/dist-packages (3.1.0)\n",
            "Requirement already satisfied: cached-property in /usr/local/lib/python3.7/dist-packages (from h5py) (1.5.2)\n",
            "Requirement already satisfied: numpy>=1.14.5 in /usr/local/lib/python3.7/dist-packages (from h5py) (1.19.5)\n"
          ]
        }
      ],
      "source": [
        "try:\n",
        " \n",
        "  %tensorflow_version 2.x\n",
        "except Exception:\n",
        "  pass\n",
        "\n",
        "!pip install pyyaml h5py "
      ]
    },
    {
      "cell_type": "code",
      "source": [
        "from __future__ import absolute_import, division, print_function, unicode_literals\n",
        "\n",
        "import os\n",
        "\n",
        "import tensorflow as tf\n",
        "from tensorflow import keras\n",
        "\n",
        "print(tf.version.VERSION)"
      ],
      "metadata": {
        "colab": {
          "base_uri": "https://localhost:8080/"
        },
        "id": "LeB0qgSOb1Cb",
        "outputId": "58b50ba5-e46b-484a-e416-420e15335593"
      },
      "execution_count": 31,
      "outputs": [
        {
          "output_type": "stream",
          "name": "stdout",
          "text": [
            "2.7.0\n"
          ]
        }
      ]
    },
    {
      "cell_type": "code",
      "source": [
        "(train_images, train_labels), (test_images, test_labels) = tf.keras.datasets.mnist.load_data()\n",
        "\n",
        "train_labels = train_labels[:1000]\n",
        "test_labels = test_labels[:1000]\n",
        "\n",
        "train_images = train_images[:1000].reshape(-1, 28 * 28) / 255.0\n",
        "test_images = test_images[:1000].reshape(-1, 28 * 28) / 255.0"
      ],
      "metadata": {
        "colab": {
          "base_uri": "https://localhost:8080/"
        },
        "id": "A_Y4zzrlRRRg",
        "outputId": "9e171790-274f-4bef-e88b-dca3f23c4b44"
      },
      "execution_count": 32,
      "outputs": [
        {
          "output_type": "stream",
          "name": "stdout",
          "text": [
            "Downloading data from https://storage.googleapis.com/tensorflow/tf-keras-datasets/mnist.npz\n",
            "11493376/11490434 [==============================] - 0s 0us/step\n",
            "11501568/11490434 [==============================] - 0s 0us/step\n"
          ]
        }
      ]
    },
    {
      "cell_type": "code",
      "source": [
        "def create_model():\n",
        "  model = tf.keras.models.Sequential([\n",
        "    keras.layers.Dense(512, activation='relu', input_shape=(784,)),\n",
        "    keras.layers.Dropout(0.2),\n",
        "    keras.layers.Dense(10, activation='softmax')\n",
        "  ])\n",
        "\n",
        "  model.compile(optimizer='adam',\n",
        "                loss='sparse_categorical_crossentropy',\n",
        "                metrics=['accuracy'])\n",
        "\n",
        "  return model\n",
        "\n",
        "model = create_model()\n",
        "\n",
        "model.summary()"
      ],
      "metadata": {
        "colab": {
          "base_uri": "https://localhost:8080/"
        },
        "id": "SV6uqa_td0Rb",
        "outputId": "e8a1628d-332b-4714-d0c1-221c213d8c61"
      },
      "execution_count": 47,
      "outputs": [
        {
          "output_type": "stream",
          "name": "stdout",
          "text": [
            "Model: \"sequential_8\"\n",
            "_________________________________________________________________\n",
            " Layer (type)                Output Shape              Param #   \n",
            "=================================================================\n",
            " dense_16 (Dense)            (None, 512)               401920    \n",
            "                                                                 \n",
            " dropout_8 (Dropout)         (None, 512)               0         \n",
            "                                                                 \n",
            " dense_17 (Dense)            (None, 10)                5130      \n",
            "                                                                 \n",
            "=================================================================\n",
            "Total params: 407,050\n",
            "Trainable params: 407,050\n",
            "Non-trainable params: 0\n",
            "_________________________________________________________________\n"
          ]
        }
      ]
    },
    {
      "cell_type": "code",
      "source": [
        "checkpoint_path = \"training_1/cp.ckpt\"\n",
        "checkpoint_dir = os.path.dirname(checkpoint_path)\n",
        "\n",
        "\n",
        "cp_callback = tf.keras.callbacks.ModelCheckpoint(filepath=checkpoint_path,\n",
        "                                                 save_weights_only=True,\n",
        "                                                 verbose=1)\n",
        "\n",
        "\n",
        "model.fit(train_images, \n",
        "          train_labels,  \n",
        "          epochs=10,\n",
        "          validation_data=(test_images,test_labels),\n",
        "          callbacks=[cp_callback]) "
      ],
      "metadata": {
        "colab": {
          "base_uri": "https://localhost:8080/"
        },
        "id": "pdQAw8LLBGUB",
        "outputId": "c455ec99-646c-4e63-dd99-7d27210a7542"
      },
      "execution_count": 48,
      "outputs": [
        {
          "output_type": "stream",
          "name": "stdout",
          "text": [
            "Epoch 1/10\n",
            "23/32 [====================>.........] - ETA: 0s - loss: 1.3354 - accuracy: 0.6223\n",
            "Epoch 00001: saving model to training_1/cp.ckpt\n",
            "32/32 [==============================] - 1s 13ms/step - loss: 1.1987 - accuracy: 0.6540 - val_loss: 0.7112 - val_accuracy: 0.7810\n",
            "Epoch 2/10\n",
            "25/32 [======================>.......] - ETA: 0s - loss: 0.4355 - accuracy: 0.8825\n",
            "Epoch 00002: saving model to training_1/cp.ckpt\n",
            "32/32 [==============================] - 0s 8ms/step - loss: 0.4311 - accuracy: 0.8810 - val_loss: 0.5355 - val_accuracy: 0.8350\n",
            "Epoch 3/10\n",
            "23/32 [====================>.........] - ETA: 0s - loss: 0.2705 - accuracy: 0.9253\n",
            "Epoch 00003: saving model to training_1/cp.ckpt\n",
            "32/32 [==============================] - 0s 8ms/step - loss: 0.2903 - accuracy: 0.9170 - val_loss: 0.5035 - val_accuracy: 0.8440\n",
            "Epoch 4/10\n",
            "32/32 [==============================] - ETA: 0s - loss: 0.2109 - accuracy: 0.9470\n",
            "Epoch 00004: saving model to training_1/cp.ckpt\n",
            "32/32 [==============================] - 0s 9ms/step - loss: 0.2109 - accuracy: 0.9470 - val_loss: 0.4468 - val_accuracy: 0.8570\n",
            "Epoch 5/10\n",
            "22/32 [===================>..........] - ETA: 0s - loss: 0.1441 - accuracy: 0.9759\n",
            "Epoch 00005: saving model to training_1/cp.ckpt\n",
            "32/32 [==============================] - 0s 8ms/step - loss: 0.1585 - accuracy: 0.9680 - val_loss: 0.4191 - val_accuracy: 0.8610\n",
            "Epoch 6/10\n",
            "22/32 [===================>..........] - ETA: 0s - loss: 0.1225 - accuracy: 0.9730\n",
            "Epoch 00006: saving model to training_1/cp.ckpt\n",
            "32/32 [==============================] - 0s 8ms/step - loss: 0.1240 - accuracy: 0.9750 - val_loss: 0.4090 - val_accuracy: 0.8660\n",
            "Epoch 7/10\n",
            "22/32 [===================>..........] - ETA: 0s - loss: 0.0861 - accuracy: 0.9886\n",
            "Epoch 00007: saving model to training_1/cp.ckpt\n",
            "32/32 [==============================] - 0s 8ms/step - loss: 0.0884 - accuracy: 0.9860 - val_loss: 0.4042 - val_accuracy: 0.8610\n",
            "Epoch 8/10\n",
            "21/32 [==================>...........] - ETA: 0s - loss: 0.0690 - accuracy: 0.9911\n",
            "Epoch 00008: saving model to training_1/cp.ckpt\n",
            "32/32 [==============================] - 0s 11ms/step - loss: 0.0697 - accuracy: 0.9930 - val_loss: 0.4076 - val_accuracy: 0.8680\n",
            "Epoch 9/10\n",
            "22/32 [===================>..........] - ETA: 0s - loss: 0.0581 - accuracy: 0.9943\n",
            "Epoch 00009: saving model to training_1/cp.ckpt\n",
            "32/32 [==============================] - 0s 11ms/step - loss: 0.0586 - accuracy: 0.9950 - val_loss: 0.4045 - val_accuracy: 0.8640\n",
            "Epoch 10/10\n",
            "32/32 [==============================] - ETA: 0s - loss: 0.0418 - accuracy: 0.9990\n",
            "Epoch 00010: saving model to training_1/cp.ckpt\n",
            "32/32 [==============================] - 0s 11ms/step - loss: 0.0418 - accuracy: 0.9990 - val_loss: 0.3931 - val_accuracy: 0.8720\n"
          ]
        },
        {
          "output_type": "execute_result",
          "data": {
            "text/plain": [
              "<keras.callbacks.History at 0x7f538afde8d0>"
            ]
          },
          "metadata": {},
          "execution_count": 48
        }
      ]
    },
    {
      "cell_type": "code",
      "source": [
        "!ls {checkpoint_dir}"
      ],
      "metadata": {
        "colab": {
          "base_uri": "https://localhost:8080/"
        },
        "id": "PpPH-vGkBLL6",
        "outputId": "c780c8e5-96cd-4d77-d955-5968603020b3"
      },
      "execution_count": 35,
      "outputs": [
        {
          "output_type": "stream",
          "name": "stdout",
          "text": [
            "checkpoint  cp.ckpt.data-00000-of-00001  cp.ckpt.index\n"
          ]
        }
      ]
    },
    {
      "cell_type": "code",
      "source": [
        "model = create_model()\n",
        "\n",
        "\n",
        "loss, acc = model.evaluate(test_images,  test_labels, verbose=2)\n",
        "print(\"Untrained model, accuracy: {:5.2f}%\".format(100*acc))"
      ],
      "metadata": {
        "colab": {
          "base_uri": "https://localhost:8080/"
        },
        "id": "0DOH3LjcBOLs",
        "outputId": "a32eca20-fc0c-4380-e799-150c92b6f065"
      },
      "execution_count": 49,
      "outputs": [
        {
          "output_type": "stream",
          "name": "stdout",
          "text": [
            "32/32 - 0s - loss: 2.3589 - accuracy: 0.0810 - 239ms/epoch - 7ms/step\n",
            "Untrained model, accuracy:  8.10%\n"
          ]
        }
      ]
    },
    {
      "cell_type": "code",
      "source": [
        "model.load_weights(checkpoint_path)\n",
        "\n",
        "\n",
        "loss,acc = model.evaluate(test_images,  test_labels, verbose=2)\n",
        "print(\"Restored model, accuracy: {:5.2f}%\".format(100*acc))"
      ],
      "metadata": {
        "colab": {
          "base_uri": "https://localhost:8080/"
        },
        "id": "y5XywlU-BSCk",
        "outputId": "a950b000-1f15-4950-a2d6-1c253f0bd70a"
      },
      "execution_count": 50,
      "outputs": [
        {
          "output_type": "stream",
          "name": "stdout",
          "text": [
            "32/32 - 0s - loss: 0.3931 - accuracy: 0.8720 - 71ms/epoch - 2ms/step\n",
            "Restored model, accuracy: 87.20%\n"
          ]
        }
      ]
    },
    {
      "cell_type": "code",
      "source": [
        "checkpoint_path = \"training_2/cp-{epoch:04d}.ckpt\"\n",
        "checkpoint_dir = os.path.dirname(checkpoint_path)\n",
        "\n",
        "\n",
        "cp_callback = tf.keras.callbacks.ModelCheckpoint(\n",
        "    filepath=checkpoint_path, \n",
        "    verbose=1, \n",
        "    save_weights_only=True,\n",
        "    period=5)\n",
        "\n",
        "model = create_model()\n",
        "\n",
        "\n",
        "model.save_weights(checkpoint_path.format(epoch=0))\n",
        "\n",
        "model.fit(train_images, \n",
        "              train_labels,\n",
        "              epochs=50, \n",
        "              callbacks=[cp_callback],\n",
        "              validation_data=(test_images,test_labels),\n",
        "              verbose=0)"
      ],
      "metadata": {
        "colab": {
          "base_uri": "https://localhost:8080/"
        },
        "id": "W28Pn1M6BVXj",
        "outputId": "50f6a66d-43d6-4657-97b7-7f0775ed12af"
      },
      "execution_count": 38,
      "outputs": [
        {
          "output_type": "stream",
          "name": "stdout",
          "text": [
            "WARNING:tensorflow:`period` argument is deprecated. Please use `save_freq` to specify the frequency in number of batches seen.\n",
            "\n",
            "Epoch 00005: saving model to training_2/cp-0005.ckpt\n",
            "\n",
            "Epoch 00010: saving model to training_2/cp-0010.ckpt\n",
            "\n",
            "Epoch 00015: saving model to training_2/cp-0015.ckpt\n",
            "\n",
            "Epoch 00020: saving model to training_2/cp-0020.ckpt\n",
            "\n",
            "Epoch 00025: saving model to training_2/cp-0025.ckpt\n",
            "\n",
            "Epoch 00030: saving model to training_2/cp-0030.ckpt\n",
            "\n",
            "Epoch 00035: saving model to training_2/cp-0035.ckpt\n",
            "\n",
            "Epoch 00040: saving model to training_2/cp-0040.ckpt\n",
            "\n",
            "Epoch 00045: saving model to training_2/cp-0045.ckpt\n",
            "\n",
            "Epoch 00050: saving model to training_2/cp-0050.ckpt\n"
          ]
        },
        {
          "output_type": "execute_result",
          "data": {
            "text/plain": [
              "<keras.callbacks.History at 0x7f538b10f390>"
            ]
          },
          "metadata": {},
          "execution_count": 38
        }
      ]
    },
    {
      "cell_type": "code",
      "source": [
        "!ls {checkpoint_dir}"
      ],
      "metadata": {
        "colab": {
          "base_uri": "https://localhost:8080/"
        },
        "id": "W5stqhMIBeWx",
        "outputId": "1d134753-f69a-4ea1-9739-7b4721f8ef87"
      },
      "execution_count": 39,
      "outputs": [
        {
          "output_type": "stream",
          "name": "stdout",
          "text": [
            "checkpoint\t\t\t  cp-0025.ckpt.index\n",
            "cp-0000.ckpt.data-00000-of-00001  cp-0030.ckpt.data-00000-of-00001\n",
            "cp-0000.ckpt.index\t\t  cp-0030.ckpt.index\n",
            "cp-0005.ckpt.data-00000-of-00001  cp-0035.ckpt.data-00000-of-00001\n",
            "cp-0005.ckpt.index\t\t  cp-0035.ckpt.index\n",
            "cp-0010.ckpt.data-00000-of-00001  cp-0040.ckpt.data-00000-of-00001\n",
            "cp-0010.ckpt.index\t\t  cp-0040.ckpt.index\n",
            "cp-0015.ckpt.data-00000-of-00001  cp-0045.ckpt.data-00000-of-00001\n",
            "cp-0015.ckpt.index\t\t  cp-0045.ckpt.index\n",
            "cp-0020.ckpt.data-00000-of-00001  cp-0050.ckpt.data-00000-of-00001\n",
            "cp-0020.ckpt.index\t\t  cp-0050.ckpt.index\n",
            "cp-0025.ckpt.data-00000-of-00001\n"
          ]
        }
      ]
    },
    {
      "cell_type": "code",
      "source": [
        "latest = tf.train.latest_checkpoint(checkpoint_dir)\n",
        "latest"
      ],
      "metadata": {
        "colab": {
          "base_uri": "https://localhost:8080/",
          "height": 36
        },
        "id": "eKf5GjK2BjE8",
        "outputId": "b21d9d4b-c443-4f0f-9bb3-8079bec75672"
      },
      "execution_count": 40,
      "outputs": [
        {
          "output_type": "execute_result",
          "data": {
            "application/vnd.google.colaboratory.intrinsic+json": {
              "type": "string"
            },
            "text/plain": [
              "'training_2/cp-0050.ckpt'"
            ]
          },
          "metadata": {},
          "execution_count": 40
        }
      ]
    },
    {
      "cell_type": "code",
      "source": [
        "model = create_model()\n",
        "\n",
        "\n",
        "model.load_weights(latest)\n",
        "\n",
        "\n",
        "loss, acc = model.evaluate(test_images,  test_labels, verbose=2)\n",
        "print(\"Restored model, accuracy: {:5.2f}%\".format(100*acc))"
      ],
      "metadata": {
        "colab": {
          "base_uri": "https://localhost:8080/"
        },
        "id": "p9noI-nTByP7",
        "outputId": "16edbe90-813d-4279-c59a-cb06366659fd"
      },
      "execution_count": 41,
      "outputs": [
        {
          "output_type": "stream",
          "name": "stdout",
          "text": [
            "32/32 - 0s - loss: 0.4926 - accuracy: 0.8690 - 251ms/epoch - 8ms/step\n",
            "Restored model, accuracy: 86.90%\n"
          ]
        }
      ]
    },
    {
      "cell_type": "code",
      "source": [
        "model.save_weights('./checkpoints/my_checkpoint')\n",
        "\n",
        "model = create_model()\n",
        "\n",
        "\n",
        "model.load_weights('./checkpoints/my_checkpoint')\n",
        "\n",
        "loss,acc = model.evaluate(test_images,  test_labels, verbose=2)\n",
        "print(\"Restored model, accuracy: {:5.2f}%\".format(100*acc))"
      ],
      "metadata": {
        "colab": {
          "base_uri": "https://localhost:8080/"
        },
        "id": "q6lM_CxgB__Z",
        "outputId": "c4798045-cee8-4962-c0b3-c7f721d1e56b"
      },
      "execution_count": 42,
      "outputs": [
        {
          "output_type": "stream",
          "name": "stdout",
          "text": [
            "32/32 - 0s - loss: 0.4926 - accuracy: 0.8690 - 237ms/epoch - 7ms/step\n",
            "Restored model, accuracy: 86.90%\n"
          ]
        }
      ]
    },
    {
      "cell_type": "code",
      "source": [
        "model = create_model()\n",
        "model.fit(train_images, train_labels, epochs=5)\n",
        "\n",
        "\n",
        "model.save('my_model.h5') "
      ],
      "metadata": {
        "colab": {
          "base_uri": "https://localhost:8080/"
        },
        "id": "fqJTW_N1CEuQ",
        "outputId": "baa9dc24-10e8-483b-9db5-980d3b1bf8f3"
      },
      "execution_count": 43,
      "outputs": [
        {
          "output_type": "stream",
          "name": "stdout",
          "text": [
            "Epoch 1/5\n",
            "WARNING:tensorflow:Unresolved object in checkpoint: (root).optimizer.iter\n",
            "WARNING:tensorflow:Unresolved object in checkpoint: (root).optimizer.beta_1\n",
            "WARNING:tensorflow:Unresolved object in checkpoint: (root).optimizer.beta_2\n",
            "WARNING:tensorflow:Unresolved object in checkpoint: (root).optimizer.decay\n",
            "WARNING:tensorflow:Unresolved object in checkpoint: (root).optimizer.learning_rate\n",
            "WARNING:tensorflow:A checkpoint was restored (e.g. tf.train.Checkpoint.restore or tf.keras.Model.load_weights) but not all checkpointed values were used. See above for specific issues. Use expect_partial() on the load status object, e.g. tf.train.Checkpoint.restore(...).expect_partial(), to silence these warnings, or use assert_consumed() to make the check explicit. See https://www.tensorflow.org/guide/checkpoint#loading_mechanics for details.\n",
            "WARNING:tensorflow:Unresolved object in checkpoint: (root).optimizer.iter\n",
            "WARNING:tensorflow:Unresolved object in checkpoint: (root).optimizer.beta_1\n",
            "WARNING:tensorflow:Unresolved object in checkpoint: (root).optimizer.beta_2\n",
            "WARNING:tensorflow:Unresolved object in checkpoint: (root).optimizer.decay\n",
            "WARNING:tensorflow:Unresolved object in checkpoint: (root).optimizer.learning_rate\n",
            "WARNING:tensorflow:A checkpoint was restored (e.g. tf.train.Checkpoint.restore or tf.keras.Model.load_weights) but not all checkpointed values were used. See above for specific issues. Use expect_partial() on the load status object, e.g. tf.train.Checkpoint.restore(...).expect_partial(), to silence these warnings, or use assert_consumed() to make the check explicit. See https://www.tensorflow.org/guide/checkpoint#loading_mechanics for details.\n",
            "32/32 [==============================] - 1s 8ms/step - loss: 1.1590 - accuracy: 0.6600\n",
            "Epoch 2/5\n",
            "32/32 [==============================] - 0s 5ms/step - loss: 0.4251 - accuracy: 0.8820\n",
            "Epoch 3/5\n",
            "32/32 [==============================] - 0s 4ms/step - loss: 0.2896 - accuracy: 0.9200\n",
            "Epoch 4/5\n",
            "32/32 [==============================] - 0s 5ms/step - loss: 0.2049 - accuracy: 0.9460\n",
            "Epoch 5/5\n",
            "32/32 [==============================] - 0s 5ms/step - loss: 0.1535 - accuracy: 0.9670\n"
          ]
        }
      ]
    },
    {
      "cell_type": "code",
      "source": [
        "new_model = tf.keras.models.load_model('my_model.h5')\n",
        "\n",
        "\n",
        "new_model.summary()"
      ],
      "metadata": {
        "colab": {
          "base_uri": "https://localhost:8080/"
        },
        "id": "nZJdutIRCJud",
        "outputId": "762230b3-f0bc-4bde-cf12-067843632e6a"
      },
      "execution_count": 44,
      "outputs": [
        {
          "output_type": "stream",
          "name": "stdout",
          "text": [
            "Model: \"sequential_7\"\n",
            "_________________________________________________________________\n",
            " Layer (type)                Output Shape              Param #   \n",
            "=================================================================\n",
            " dense_14 (Dense)            (None, 512)               401920    \n",
            "                                                                 \n",
            " dropout_7 (Dropout)         (None, 512)               0         \n",
            "                                                                 \n",
            " dense_15 (Dense)            (None, 10)                5130      \n",
            "                                                                 \n",
            "=================================================================\n",
            "Total params: 407,050\n",
            "Trainable params: 407,050\n",
            "Non-trainable params: 0\n",
            "_________________________________________________________________\n"
          ]
        }
      ]
    },
    {
      "cell_type": "code",
      "source": [
        "loss, acc = new_model.evaluate(test_images,  test_labels, verbose=2)\n",
        "print('Restored model, accuracy: {:5.2f}%'.format(100*acc))"
      ],
      "metadata": {
        "colab": {
          "base_uri": "https://localhost:8080/"
        },
        "id": "IsDUUwS9CP7u",
        "outputId": "07640065-b71a-428d-d5a3-dcee48389b12"
      },
      "execution_count": 45,
      "outputs": [
        {
          "output_type": "stream",
          "name": "stdout",
          "text": [
            "32/32 - 0s - loss: 0.4159 - accuracy: 0.8670 - 163ms/epoch - 5ms/step\n",
            "Restored model, accuracy: 86.70%\n"
          ]
        }
      ]
    },
    {
      "cell_type": "code",
      "source": [
        "def predict_label(img_path):\n",
        "    x = load_img(img_path, target_size=(150,150))\n",
        "    x = img_to_array(x)\n",
        "    x = np.expand_dims(x, axis=0)\n",
        "    array = model.predict(x)\n",
        "    result = array[0]\n",
        "    answer = np.argmax(result)\n",
        "    if answer == 0:\n",
        "        print(\"Batik1\")\n",
        "    elif answer == 1:\n",
        "\t    print(\"Batik2\")\n",
        "    elif answer == 2:\n",
        "\t    print(\"Batik3\")\n",
        "\n",
        "    return answer"
      ],
      "metadata": {
        "id": "mX4Ui-IcFfWN"
      },
      "execution_count": 52,
      "outputs": []
    }
  ]
}